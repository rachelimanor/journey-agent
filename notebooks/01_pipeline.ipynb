{
 "cells": [
  {
   "cell_type": "code",
   "execution_count": 1,
   "id": "8647ef3c-e0e6-4884-9a32-47fabd4cfce9",
   "metadata": {},
   "outputs": [
    {
     "name": "stdout",
     "output_type": "stream",
     "text": [
      "OK\n"
     ]
    }
   ],
   "source": [
    "import openai, pandas as pd, requests, bs4, readability, lxml, praw, os\n",
    "print(\"OK\")"
   ]
  },
  {
   "cell_type": "code",
   "execution_count": 1,
   "id": "96340db7-8cdb-479e-934c-4f2ffff74091",
   "metadata": {},
   "outputs": [
    {
     "name": "stdout",
     "output_type": "stream",
     "text": [
      "OPENAI: True\n",
      "SERPAPI: True\n",
      "REDDIT: True\n"
     ]
    }
   ],
   "source": [
    "from dotenv import load_dotenv; load_dotenv()\n",
    "import os\n",
    "print(\"OPENAI:\", bool(os.getenv(\"OPENAI_API_KEY\")))\n",
    "print(\"SERPAPI:\", bool(os.getenv(\"SERPAPI_API_KEY\")))\n",
    "print(\"REDDIT:\", all([os.getenv(\"REDDIT_CLIENT_ID\"), os.getenv(\"REDDIT_CLIENT_SECRET\"), os.getenv(\"REDDIT_USER_AGENT\")]))\n"
   ]
  },
  {
   "cell_type": "code",
   "execution_count": null,
   "id": "2413e52c-eff9-4aec-9c47-ce5b15f0c0fb",
   "metadata": {},
   "outputs": [],
   "source": []
  }
 ],
 "metadata": {
  "kernelspec": {
   "display_name": "Python (journey)",
   "language": "python",
   "name": "journey"
  },
  "language_info": {
   "codemirror_mode": {
    "name": "ipython",
    "version": 3
   },
   "file_extension": ".py",
   "mimetype": "text/x-python",
   "name": "python",
   "nbconvert_exporter": "python",
   "pygments_lexer": "ipython3",
   "version": "3.11.14"
  }
 },
 "nbformat": 4,
 "nbformat_minor": 5
}
